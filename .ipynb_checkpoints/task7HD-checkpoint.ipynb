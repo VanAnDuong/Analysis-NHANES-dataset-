{
 "cells": [
  {
   "cell_type": "markdown",
   "id": "84d8ff5f-a219-4881-87e6-1f2d5d106b7b",
   "metadata": {},
   "source": [
    "                                                               SIT731 Data Wrangling: Task 7HD\n",
    "                                                               \n",
    "Studentname: Van An Duong\n",
    "\n",
    "StudentID: 223603395\n",
    "\n",
    "Email: s223603395@deakin.edu.au\n",
    "\n",
    "Unit course: SIT731 (postgraduate)"
   ]
  },
  {
   "cell_type": "markdown",
   "id": "8e20bb01-07e0-446b-9d48-3d89d3c8eb65",
   "metadata": {},
   "source": [
    "I/ Introduction"
   ]
  },
  {
   "cell_type": "markdown",
   "id": "8e3ba2e5-6603-47d3-8806-91d0dadee2ae",
   "metadata": {},
   "source": [
    "In 7HD task, a report will use NHANES data to analyze obesity and diabetes in the United States. The report will analyze the current status of obesity, the relationship between obesity and LDL cholesterol and blood glucose, and diabetes."
   ]
  },
  {
   "cell_type": "markdown",
   "id": "97a6341a-5217-4c41-ad8c-c63a521dbf83",
   "metadata": {},
   "source": [
    "II/ Pre process data"
   ]
  },
  {
   "cell_type": "markdown",
   "id": "2f41e022-4421-4abf-813b-3b38f52f110e",
   "metadata": {},
   "source": [
    "1/ Import libraries"
   ]
  },
  {
   "cell_type": "markdown",
   "id": "cdd1d8b1-f571-4465-9f94-93b2c9bf94e9",
   "metadata": {},
   "source": [
    "First, I will import the necessary libraries for data analysis."
   ]
  },
  {
   "cell_type": "code",
   "execution_count": 1,
   "id": "030a01c0-4e43-483e-af1d-04a50dc67991",
   "metadata": {},
   "outputs": [
    {
     "data": {
      "text/html": [
       "<style>\n",
       "        .bk-notebook-logo {\n",
       "            display: block;\n",
       "            width: 20px;\n",
       "            height: 20px;\n",
       "            background-image: url(data:image/png;base64,iVBORw0KGgoAAAANSUhEUgAAABQAAAAUCAYAAACNiR0NAAAABHNCSVQICAgIfAhkiAAAAAlwSFlzAAALEgAACxIB0t1+/AAAABx0RVh0U29mdHdhcmUAQWRvYmUgRmlyZXdvcmtzIENTNui8sowAAAOkSURBVDiNjZRtaJVlGMd/1/08zzln5zjP1LWcU9N0NkN8m2CYjpgQYQXqSs0I84OLIC0hkEKoPtiH3gmKoiJDU7QpLgoLjLIQCpEsNJ1vqUOdO7ppbuec5+V+rj4ctwzd8IIbbi6u+8f1539dt3A78eXC7QizUF7gyV1fD1Yqg4JWz84yffhm0qkFqBogB9rM8tZdtwVsPUhWhGcFJngGeWrPzHm5oaMmkfEg1usvLFyc8jLRqDOMru7AyC8saQr7GG7f5fvDeH7Ej8CM66nIF+8yngt6HWaKh7k49Soy9nXurCi1o3qUbS3zWfrYeQDTB/Qj6kX6Ybhw4B+bOYoLKCC9H3Nu/leUTZ1JdRWkkn2ldcCamzrcf47KKXdAJllSlxAOkRgyHsGC/zRday5Qld9DyoM4/q/rUoy/CXh3jzOu3bHUVZeU+DEn8FInkPBFlu3+nW3Nw0mk6vCDiWg8CeJaxEwuHS3+z5RgY+YBR6V1Z1nxSOfoaPa4LASWxxdNp+VWTk7+4vzaou8v8PN+xo+KY2xsw6une2frhw05CTYOmQvsEhjhWjn0bmXPjpE1+kplmmkP3suftwTubK9Vq22qKmrBhpY4jvd5afdRA3wGjFAgcnTK2s4hY0/GPNIb0nErGMCRxWOOX64Z8RAC4oCXdklmEvcL8o0BfkNK4lUg9HTl+oPlQxdNo3Mg4Nv175e/1LDGzZen30MEjRUtmXSfiTVu1kK8W4txyV6BMKlbgk3lMwYCiusNy9fVfvvwMxv8Ynl6vxoByANLTWplvuj/nF9m2+PDtt1eiHPBr1oIfhCChQMBw6Aw0UulqTKZdfVvfG7VcfIqLG9bcldL/+pdWTLxLUy8Qq38heUIjh4XlzZxzQm19lLFlr8vdQ97rjZVOLf8nclzckbcD4wxXMidpX30sFd37Fv/GtwwhzhxGVAprjbg0gCAEeIgwCZyTV2Z1REEW8O4py0wsjeloKoMr6iCY6dP92H6Vw/oTyICIthibxjm/DfN9lVz8IqtqKYLUXfoKVMVQVVJOElGjrnnUt9T9wbgp8AyYKaGlqingHZU/uG2NTZSVqwHQTWkx9hxjkpWDaCg6Ckj5qebgBVbT3V3NNXMSiWSDdGV3hrtzla7J+duwPOToIg42ChPQOQjspnSlp1V+Gjdged7+8UN5CRAV7a5EdFNwCjEaBR27b3W890TE7g24NAP/mMDXRWrGoFPQI9ls/MWO2dWFAar/xcOIImbbpA3zgAAAABJRU5ErkJggg==);\n",
       "        }\n",
       "    </style>\n",
       "    <div>\n",
       "        <a href=\"https://bokeh.org\" target=\"_blank\" class=\"bk-notebook-logo\"></a>\n",
       "        <span id=\"e6fc0350-e4e5-4676-adce-105ef0a22d82\">Loading BokehJS ...</span>\n",
       "    </div>\n"
      ]
     },
     "metadata": {},
     "output_type": "display_data"
    },
    {
     "data": {
      "application/javascript": [
       "(function(root) {\n",
       "  function now() {\n",
       "    return new Date();\n",
       "  }\n",
       "\n",
       "  const force = true;\n",
       "\n",
       "  if (typeof root._bokeh_onload_callbacks === \"undefined\" || force === true) {\n",
       "    root._bokeh_onload_callbacks = [];\n",
       "    root._bokeh_is_loading = undefined;\n",
       "  }\n",
       "\n",
       "const JS_MIME_TYPE = 'application/javascript';\n",
       "  const HTML_MIME_TYPE = 'text/html';\n",
       "  const EXEC_MIME_TYPE = 'application/vnd.bokehjs_exec.v0+json';\n",
       "  const CLASS_NAME = 'output_bokeh rendered_html';\n",
       "\n",
       "  /**\n",
       "   * Render data to the DOM node\n",
       "   */\n",
       "  function render(props, node) {\n",
       "    const script = document.createElement(\"script\");\n",
       "    node.appendChild(script);\n",
       "  }\n",
       "\n",
       "  /**\n",
       "   * Handle when an output is cleared or removed\n",
       "   */\n",
       "  function handleClearOutput(event, handle) {\n",
       "    function drop(id) {\n",
       "      const view = Bokeh.index.get_by_id(id)\n",
       "      if (view != null) {\n",
       "        view.model.document.clear()\n",
       "        Bokeh.index.delete(view)\n",
       "      }\n",
       "    }\n",
       "\n",
       "    const cell = handle.cell;\n",
       "\n",
       "    const id = cell.output_area._bokeh_element_id;\n",
       "    const server_id = cell.output_area._bokeh_server_id;\n",
       "\n",
       "    // Clean up Bokeh references\n",
       "    if (id != null) {\n",
       "      drop(id)\n",
       "    }\n",
       "\n",
       "    if (server_id !== undefined) {\n",
       "      // Clean up Bokeh references\n",
       "      const cmd_clean = \"from bokeh.io.state import curstate; print(curstate().uuid_to_server['\" + server_id + \"'].get_sessions()[0].document.roots[0]._id)\";\n",
       "      cell.notebook.kernel.execute(cmd_clean, {\n",
       "        iopub: {\n",
       "          output: function(msg) {\n",
       "            const id = msg.content.text.trim()\n",
       "            drop(id)\n",
       "          }\n",
       "        }\n",
       "      });\n",
       "      // Destroy server and session\n",
       "      const cmd_destroy = \"import bokeh.io.notebook as ion; ion.destroy_server('\" + server_id + \"')\";\n",
       "      cell.notebook.kernel.execute(cmd_destroy);\n",
       "    }\n",
       "  }\n",
       "\n",
       "  /**\n",
       "   * Handle when a new output is added\n",
       "   */\n",
       "  function handleAddOutput(event, handle) {\n",
       "    const output_area = handle.output_area;\n",
       "    const output = handle.output;\n",
       "\n",
       "    // limit handleAddOutput to display_data with EXEC_MIME_TYPE content only\n",
       "    if ((output.output_type != \"display_data\") || (!Object.prototype.hasOwnProperty.call(output.data, EXEC_MIME_TYPE))) {\n",
       "      return\n",
       "    }\n",
       "\n",
       "    const toinsert = output_area.element.find(\".\" + CLASS_NAME.split(' ')[0]);\n",
       "\n",
       "    if (output.metadata[EXEC_MIME_TYPE][\"id\"] !== undefined) {\n",
       "      toinsert[toinsert.length - 1].firstChild.textContent = output.data[JS_MIME_TYPE];\n",
       "      // store reference to embed id on output_area\n",
       "      output_area._bokeh_element_id = output.metadata[EXEC_MIME_TYPE][\"id\"];\n",
       "    }\n",
       "    if (output.metadata[EXEC_MIME_TYPE][\"server_id\"] !== undefined) {\n",
       "      const bk_div = document.createElement(\"div\");\n",
       "      bk_div.innerHTML = output.data[HTML_MIME_TYPE];\n",
       "      const script_attrs = bk_div.children[0].attributes;\n",
       "      for (let i = 0; i < script_attrs.length; i++) {\n",
       "        toinsert[toinsert.length - 1].firstChild.setAttribute(script_attrs[i].name, script_attrs[i].value);\n",
       "        toinsert[toinsert.length - 1].firstChild.textContent = bk_div.children[0].textContent\n",
       "      }\n",
       "      // store reference to server id on output_area\n",
       "      output_area._bokeh_server_id = output.metadata[EXEC_MIME_TYPE][\"server_id\"];\n",
       "    }\n",
       "  }\n",
       "\n",
       "  function register_renderer(events, OutputArea) {\n",
       "\n",
       "    function append_mime(data, metadata, element) {\n",
       "      // create a DOM node to render to\n",
       "      const toinsert = this.create_output_subarea(\n",
       "        metadata,\n",
       "        CLASS_NAME,\n",
       "        EXEC_MIME_TYPE\n",
       "      );\n",
       "      this.keyboard_manager.register_events(toinsert);\n",
       "      // Render to node\n",
       "      const props = {data: data, metadata: metadata[EXEC_MIME_TYPE]};\n",
       "      render(props, toinsert[toinsert.length - 1]);\n",
       "      element.append(toinsert);\n",
       "      return toinsert\n",
       "    }\n",
       "\n",
       "    /* Handle when an output is cleared or removed */\n",
       "    events.on('clear_output.CodeCell', handleClearOutput);\n",
       "    events.on('delete.Cell', handleClearOutput);\n",
       "\n",
       "    /* Handle when a new output is added */\n",
       "    events.on('output_added.OutputArea', handleAddOutput);\n",
       "\n",
       "    /**\n",
       "     * Register the mime type and append_mime function with output_area\n",
       "     */\n",
       "    OutputArea.prototype.register_mime_type(EXEC_MIME_TYPE, append_mime, {\n",
       "      /* Is output safe? */\n",
       "      safe: true,\n",
       "      /* Index of renderer in `output_area.display_order` */\n",
       "      index: 0\n",
       "    });\n",
       "  }\n",
       "\n",
       "  // register the mime type if in Jupyter Notebook environment and previously unregistered\n",
       "  if (root.Jupyter !== undefined) {\n",
       "    const events = require('base/js/events');\n",
       "    const OutputArea = require('notebook/js/outputarea').OutputArea;\n",
       "\n",
       "    if (OutputArea.prototype.mime_types().indexOf(EXEC_MIME_TYPE) == -1) {\n",
       "      register_renderer(events, OutputArea);\n",
       "    }\n",
       "  }\n",
       "  if (typeof (root._bokeh_timeout) === \"undefined\" || force === true) {\n",
       "    root._bokeh_timeout = Date.now() + 5000;\n",
       "    root._bokeh_failed_load = false;\n",
       "  }\n",
       "\n",
       "  const NB_LOAD_WARNING = {'data': {'text/html':\n",
       "     \"<div style='background-color: #fdd'>\\n\"+\n",
       "     \"<p>\\n\"+\n",
       "     \"BokehJS does not appear to have successfully loaded. If loading BokehJS from CDN, this \\n\"+\n",
       "     \"may be due to a slow or bad network connection. Possible fixes:\\n\"+\n",
       "     \"</p>\\n\"+\n",
       "     \"<ul>\\n\"+\n",
       "     \"<li>re-rerun `output_notebook()` to attempt to load from CDN again, or</li>\\n\"+\n",
       "     \"<li>use INLINE resources instead, as so:</li>\\n\"+\n",
       "     \"</ul>\\n\"+\n",
       "     \"<code>\\n\"+\n",
       "     \"from bokeh.resources import INLINE\\n\"+\n",
       "     \"output_notebook(resources=INLINE)\\n\"+\n",
       "     \"</code>\\n\"+\n",
       "     \"</div>\"}};\n",
       "\n",
       "  function display_loaded() {\n",
       "    const el = document.getElementById(\"e6fc0350-e4e5-4676-adce-105ef0a22d82\");\n",
       "    if (el != null) {\n",
       "      el.textContent = \"BokehJS is loading...\";\n",
       "    }\n",
       "    if (root.Bokeh !== undefined) {\n",
       "      if (el != null) {\n",
       "        el.textContent = \"BokehJS \" + root.Bokeh.version + \" successfully loaded.\";\n",
       "      }\n",
       "    } else if (Date.now() < root._bokeh_timeout) {\n",
       "      setTimeout(display_loaded, 100)\n",
       "    }\n",
       "  }\n",
       "\n",
       "  function run_callbacks() {\n",
       "    try {\n",
       "      root._bokeh_onload_callbacks.forEach(function(callback) {\n",
       "        if (callback != null)\n",
       "          callback();\n",
       "      });\n",
       "    } finally {\n",
       "      delete root._bokeh_onload_callbacks\n",
       "    }\n",
       "    console.debug(\"Bokeh: all callbacks have finished\");\n",
       "  }\n",
       "\n",
       "  function load_libs(css_urls, js_urls, callback) {\n",
       "    if (css_urls == null) css_urls = [];\n",
       "    if (js_urls == null) js_urls = [];\n",
       "\n",
       "    root._bokeh_onload_callbacks.push(callback);\n",
       "    if (root._bokeh_is_loading > 0) {\n",
       "      console.debug(\"Bokeh: BokehJS is being loaded, scheduling callback at\", now());\n",
       "      return null;\n",
       "    }\n",
       "    if (js_urls == null || js_urls.length === 0) {\n",
       "      run_callbacks();\n",
       "      return null;\n",
       "    }\n",
       "    console.debug(\"Bokeh: BokehJS not loaded, scheduling load and callback at\", now());\n",
       "    root._bokeh_is_loading = css_urls.length + js_urls.length;\n",
       "\n",
       "    function on_load() {\n",
       "      root._bokeh_is_loading--;\n",
       "      if (root._bokeh_is_loading === 0) {\n",
       "        console.debug(\"Bokeh: all BokehJS libraries/stylesheets loaded\");\n",
       "        run_callbacks()\n",
       "      }\n",
       "    }\n",
       "\n",
       "    function on_error(url) {\n",
       "      console.error(\"failed to load \" + url);\n",
       "    }\n",
       "\n",
       "    for (let i = 0; i < css_urls.length; i++) {\n",
       "      const url = css_urls[i];\n",
       "      const element = document.createElement(\"link\");\n",
       "      element.onload = on_load;\n",
       "      element.onerror = on_error.bind(null, url);\n",
       "      element.rel = \"stylesheet\";\n",
       "      element.type = \"text/css\";\n",
       "      element.href = url;\n",
       "      console.debug(\"Bokeh: injecting link tag for BokehJS stylesheet: \", url);\n",
       "      document.body.appendChild(element);\n",
       "    }\n",
       "\n",
       "    for (let i = 0; i < js_urls.length; i++) {\n",
       "      const url = js_urls[i];\n",
       "      const element = document.createElement('script');\n",
       "      element.onload = on_load;\n",
       "      element.onerror = on_error.bind(null, url);\n",
       "      element.async = false;\n",
       "      element.src = url;\n",
       "      console.debug(\"Bokeh: injecting script tag for BokehJS library: \", url);\n",
       "      document.head.appendChild(element);\n",
       "    }\n",
       "  };\n",
       "\n",
       "  function inject_raw_css(css) {\n",
       "    const element = document.createElement(\"style\");\n",
       "    element.appendChild(document.createTextNode(css));\n",
       "    document.body.appendChild(element);\n",
       "  }\n",
       "\n",
       "  const js_urls = [\"https://cdn.bokeh.org/bokeh/release/bokeh-3.3.0.min.js\", \"https://cdn.bokeh.org/bokeh/release/bokeh-gl-3.3.0.min.js\", \"https://cdn.bokeh.org/bokeh/release/bokeh-widgets-3.3.0.min.js\", \"https://cdn.bokeh.org/bokeh/release/bokeh-tables-3.3.0.min.js\", \"https://cdn.bokeh.org/bokeh/release/bokeh-mathjax-3.3.0.min.js\"];\n",
       "  const css_urls = [];\n",
       "\n",
       "  const inline_js = [    function(Bokeh) {\n",
       "      Bokeh.set_log_level(\"info\");\n",
       "    },\n",
       "function(Bokeh) {\n",
       "    }\n",
       "  ];\n",
       "\n",
       "  function run_inline_js() {\n",
       "    if (root.Bokeh !== undefined || force === true) {\n",
       "          for (let i = 0; i < inline_js.length; i++) {\n",
       "      inline_js[i].call(root, root.Bokeh);\n",
       "    }\n",
       "if (force === true) {\n",
       "        display_loaded();\n",
       "      }} else if (Date.now() < root._bokeh_timeout) {\n",
       "      setTimeout(run_inline_js, 100);\n",
       "    } else if (!root._bokeh_failed_load) {\n",
       "      console.log(\"Bokeh: BokehJS failed to load within specified timeout.\");\n",
       "      root._bokeh_failed_load = true;\n",
       "    } else if (force !== true) {\n",
       "      const cell = $(document.getElementById(\"e6fc0350-e4e5-4676-adce-105ef0a22d82\")).parents('.cell').data().cell;\n",
       "      cell.output_area.append_execute_result(NB_LOAD_WARNING)\n",
       "    }\n",
       "  }\n",
       "\n",
       "  if (root._bokeh_is_loading === 0) {\n",
       "    console.debug(\"Bokeh: BokehJS loaded, going straight to plotting\");\n",
       "    run_inline_js();\n",
       "  } else {\n",
       "    load_libs(css_urls, js_urls, function() {\n",
       "      console.debug(\"Bokeh: BokehJS plotting callback run at\", now());\n",
       "      run_inline_js();\n",
       "    });\n",
       "  }\n",
       "}(window));"
      ],
      "application/vnd.bokehjs_load.v0+json": "(function(root) {\n  function now() {\n    return new Date();\n  }\n\n  const force = true;\n\n  if (typeof root._bokeh_onload_callbacks === \"undefined\" || force === true) {\n    root._bokeh_onload_callbacks = [];\n    root._bokeh_is_loading = undefined;\n  }\n\n\n  if (typeof (root._bokeh_timeout) === \"undefined\" || force === true) {\n    root._bokeh_timeout = Date.now() + 5000;\n    root._bokeh_failed_load = false;\n  }\n\n  const NB_LOAD_WARNING = {'data': {'text/html':\n     \"<div style='background-color: #fdd'>\\n\"+\n     \"<p>\\n\"+\n     \"BokehJS does not appear to have successfully loaded. If loading BokehJS from CDN, this \\n\"+\n     \"may be due to a slow or bad network connection. Possible fixes:\\n\"+\n     \"</p>\\n\"+\n     \"<ul>\\n\"+\n     \"<li>re-rerun `output_notebook()` to attempt to load from CDN again, or</li>\\n\"+\n     \"<li>use INLINE resources instead, as so:</li>\\n\"+\n     \"</ul>\\n\"+\n     \"<code>\\n\"+\n     \"from bokeh.resources import INLINE\\n\"+\n     \"output_notebook(resources=INLINE)\\n\"+\n     \"</code>\\n\"+\n     \"</div>\"}};\n\n  function display_loaded() {\n    const el = document.getElementById(\"e6fc0350-e4e5-4676-adce-105ef0a22d82\");\n    if (el != null) {\n      el.textContent = \"BokehJS is loading...\";\n    }\n    if (root.Bokeh !== undefined) {\n      if (el != null) {\n        el.textContent = \"BokehJS \" + root.Bokeh.version + \" successfully loaded.\";\n      }\n    } else if (Date.now() < root._bokeh_timeout) {\n      setTimeout(display_loaded, 100)\n    }\n  }\n\n  function run_callbacks() {\n    try {\n      root._bokeh_onload_callbacks.forEach(function(callback) {\n        if (callback != null)\n          callback();\n      });\n    } finally {\n      delete root._bokeh_onload_callbacks\n    }\n    console.debug(\"Bokeh: all callbacks have finished\");\n  }\n\n  function load_libs(css_urls, js_urls, callback) {\n    if (css_urls == null) css_urls = [];\n    if (js_urls == null) js_urls = [];\n\n    root._bokeh_onload_callbacks.push(callback);\n    if (root._bokeh_is_loading > 0) {\n      console.debug(\"Bokeh: BokehJS is being loaded, scheduling callback at\", now());\n      return null;\n    }\n    if (js_urls == null || js_urls.length === 0) {\n      run_callbacks();\n      return null;\n    }\n    console.debug(\"Bokeh: BokehJS not loaded, scheduling load and callback at\", now());\n    root._bokeh_is_loading = css_urls.length + js_urls.length;\n\n    function on_load() {\n      root._bokeh_is_loading--;\n      if (root._bokeh_is_loading === 0) {\n        console.debug(\"Bokeh: all BokehJS libraries/stylesheets loaded\");\n        run_callbacks()\n      }\n    }\n\n    function on_error(url) {\n      console.error(\"failed to load \" + url);\n    }\n\n    for (let i = 0; i < css_urls.length; i++) {\n      const url = css_urls[i];\n      const element = document.createElement(\"link\");\n      element.onload = on_load;\n      element.onerror = on_error.bind(null, url);\n      element.rel = \"stylesheet\";\n      element.type = \"text/css\";\n      element.href = url;\n      console.debug(\"Bokeh: injecting link tag for BokehJS stylesheet: \", url);\n      document.body.appendChild(element);\n    }\n\n    for (let i = 0; i < js_urls.length; i++) {\n      const url = js_urls[i];\n      const element = document.createElement('script');\n      element.onload = on_load;\n      element.onerror = on_error.bind(null, url);\n      element.async = false;\n      element.src = url;\n      console.debug(\"Bokeh: injecting script tag for BokehJS library: \", url);\n      document.head.appendChild(element);\n    }\n  };\n\n  function inject_raw_css(css) {\n    const element = document.createElement(\"style\");\n    element.appendChild(document.createTextNode(css));\n    document.body.appendChild(element);\n  }\n\n  const js_urls = [\"https://cdn.bokeh.org/bokeh/release/bokeh-3.3.0.min.js\", \"https://cdn.bokeh.org/bokeh/release/bokeh-gl-3.3.0.min.js\", \"https://cdn.bokeh.org/bokeh/release/bokeh-widgets-3.3.0.min.js\", \"https://cdn.bokeh.org/bokeh/release/bokeh-tables-3.3.0.min.js\", \"https://cdn.bokeh.org/bokeh/release/bokeh-mathjax-3.3.0.min.js\"];\n  const css_urls = [];\n\n  const inline_js = [    function(Bokeh) {\n      Bokeh.set_log_level(\"info\");\n    },\nfunction(Bokeh) {\n    }\n  ];\n\n  function run_inline_js() {\n    if (root.Bokeh !== undefined || force === true) {\n          for (let i = 0; i < inline_js.length; i++) {\n      inline_js[i].call(root, root.Bokeh);\n    }\nif (force === true) {\n        display_loaded();\n      }} else if (Date.now() < root._bokeh_timeout) {\n      setTimeout(run_inline_js, 100);\n    } else if (!root._bokeh_failed_load) {\n      console.log(\"Bokeh: BokehJS failed to load within specified timeout.\");\n      root._bokeh_failed_load = true;\n    } else if (force !== true) {\n      const cell = $(document.getElementById(\"e6fc0350-e4e5-4676-adce-105ef0a22d82\")).parents('.cell').data().cell;\n      cell.output_area.append_execute_result(NB_LOAD_WARNING)\n    }\n  }\n\n  if (root._bokeh_is_loading === 0) {\n    console.debug(\"Bokeh: BokehJS loaded, going straight to plotting\");\n    run_inline_js();\n  } else {\n    load_libs(css_urls, js_urls, function() {\n      console.debug(\"Bokeh: BokehJS plotting callback run at\", now());\n      run_inline_js();\n    });\n  }\n}(window));"
     },
     "metadata": {},
     "output_type": "display_data"
    }
   ],
   "source": [
    "import pandas as pd\n",
    "import numpy as np\n",
    "from scipy.stats import gaussian_kde\n",
    "from bokeh.plotting import figure, show, output_notebook\n",
    "from bokeh.models import (ColumnDataSource, HoverTool, FactorRange, VArea, CheckboxGroup, CustomJS)\n",
    "from bokeh.layouts import column, layout\n",
    "from bokeh.palettes import Category10, d3, Viridis5 as palette\n",
    "from bokeh.transform import factor_cmap\n",
    "from ipywidgets import interact, Dropdown\n",
    "from PIL import Image\n",
    "import matplotlib.pyplot as plt\n",
    "from bokeh.io import push_notebook, show\n",
    "output_notebook()"
   ]
  },
  {
   "cell_type": "markdown",
   "id": "a9b1e47c-d563-4bfc-a1ba-2b348628e0bc",
   "metadata": {},
   "source": [
    "2/ Load data"
   ]
  },
  {
   "cell_type": "markdown",
   "id": "8970029e-4060-4156-9ce2-7db66983ddff",
   "metadata": {},
   "source": [
    "I use the read_sas function to read data files"
   ]
  },
  {
   "cell_type": "code",
   "execution_count": 2,
   "id": "2c1b86b7-935c-4933-8170-165a9b68472a",
   "metadata": {},
   "outputs": [],
   "source": [
    "demo = pd.read_sas(\"P_DEMO.XPT\") # Demographic data\n",
    "bmi = pd.read_sas(\"P_BMX.XPT\") # BMI data\n",
    "diabetes = pd.read_sas(\"P_DIQ.XPT\") # Diabetes data\n",
    "ldlcholes = pd.read_sas(\"P_TRIGLY.XPT\") # LDL choles data\n",
    "glu = pd.read_sas(\"P_GLU.XPT\") # Glucose data\n",
    "act = pd.read_sas(\"P_PAQ.XPT\") # Activity data\n",
    "dietary = pd.read_sas(\"P_DR1TOT.XPT\") # Dietary data\n",
    "smoke =  pd.read_sas(\"P_SMQ.XPT\") # Smoke data"
   ]
  },
  {
   "cell_type": "markdown",
   "id": "8b54d0e7-cc61-45e3-a3ec-2494ae7a07bd",
   "metadata": {},
   "source": [
    "3/ Pre process data"
   ]
  },
  {
   "cell_type": "markdown",
   "id": "5eb9f2a2-66c3-4882-a767-6783e8deecc3",
   "metadata": {},
   "source": [
    "In this step, I will pre process the data before conducting analysis."
   ]
  },
  {
   "cell_type": "code",
   "execution_count": 3,
   "id": "60de3b07-71ec-4d1e-be07-3d53ad03585c",
   "metadata": {},
   "outputs": [],
   "source": [
    "#Handle demographic data\n",
    "#Since the column, RIAGENDR, has been encrypted, I will proceed to add a new column and label the corresponding value.\n",
    "demo = demo.loc[demo['RIAGENDR'].notna()]\n",
    "value_to_gender = {\n",
    "    1: 'Male',\n",
    "    2: 'Female'    \n",
    "}\n",
    "demo['Gender'] = demo['RIAGENDR'].map(value_to_gender) \n",
    "\n",
    "# Race column\n",
    "demo = demo.loc[demo['RIDRETH1'].notna()]\n",
    "value_to_race = {\n",
    "    1: 'Mexican American',\n",
    "    2: 'Other Hispanic',\n",
    "    3: 'Non-Hispanic White',\n",
    "    4: 'Non-Hispanic Black',\n",
    "    5: 'Other Race - Including Multi-Racial',\n",
    "}\n",
    "demo['Race'] = demo['RIDRETH1'].map(value_to_race)\n",
    "\n",
    "# Age group column\n",
    "bins = [0, 20, 40, 60, 80]\n",
    "labels = ['0-20', '21-40', '41-60', '61-80']\n",
    "demo['age_group'] = pd.cut(demo['RIDAGEYR'], bins=bins, labels=labels, right=False) \n",
    "\n",
    "# Education column\n",
    "demo = demo.loc[demo['DMDEDUC2'].notna()]\n",
    "value_to_edu = {\n",
    "    1: 'Less than 9th grade',\n",
    "    2: '9-11th grade (Includes 12th grade with no diploma)',\n",
    "    3: 'High school graduate/GED or equivalent',\n",
    "    4: 'Some college or AA degree',\n",
    "    5: 'College graduate or above',\n",
    "    7: 'Refused',\n",
    "    9: 'Dont Know'\n",
    "}\n",
    "demo['Education'] = demo['DMDEDUC2'].map(value_to_edu)\n",
    "\n",
    "#Handle bmi data\n",
    "def bmicate(bmi): \n",
    "    if bmi < 18.5:\n",
    "        return 'underweight'\n",
    "    elif bmi < 25.0:\n",
    "        return 'normal weight'\n",
    "    elif bmi < 30:\n",
    "        return 'overweight'\n",
    "    else:\n",
    "        return 'obesity'\n",
    "\n",
    "bmi['Obesity'] = bmi['BMXBMI'].apply(bmicate) \n",
    "\n",
    "# Calculate Q1 and Q3\n",
    "Q1bmi = bmi['BMXBMI'].quantile(0.25)\n",
    "Q3bmi = bmi['BMXBMI'].quantile(0.75)\n",
    "\n",
    "IQRbmi = Q3bmi - Q1bmi\n",
    "\n",
    "lower_boundbmi = Q1bmi - 1.5 * IQRbmi\n",
    "upper_boundbmi = Q3bmi + 1.5 * IQRbmi\n",
    "\n",
    "# Filter outliers\n",
    "bmi = bmi[(bmi['BMXBMI'] >= lower_boundbmi) & (bmi['BMXBMI'] <= upper_boundbmi)]\n",
    "\n",
    "#Handle diabetes data\n",
    "value_to_label = {\n",
    "    1: 'yes',\n",
    "    2: 'no',\n",
    "    3: 'borderline',\n",
    "    7: 'refused',\n",
    "    9: \"Don't know\"\n",
    "}\n",
    "diabetes['diabetes_status'] = diabetes['DIQ010'].map(value_to_label)\n",
    "\n",
    "#Handle activity data\n",
    "#Column PAQ640 is the number of days walked or cycled. I will filter data such as refused, don't know and missing.\n",
    "act = act.loc[~(act['PAQ640'] == 77) & ~(act['PAQ640'] == 99) & ~act['PAQ640'].isna()]\n",
    "\n",
    "#Handle smoke data\n",
    "smoke = smoke.loc[smoke['SMQ040'].notna()]\n",
    "value_to_smoke = {\n",
    "    1: 'Every day',\n",
    "    2: 'Some days',\n",
    "    3: 'Not at all',\n",
    "    7: 'refused',\n",
    "    9: \"Don't know\"\n",
    "}\n",
    "smoke['smoke_status'] = smoke['SMQ040'].map(value_to_label)"
   ]
  },
  {
   "cell_type": "markdown",
   "id": "a26745c1-8141-4060-b5ef-c66b5f758bdb",
   "metadata": {},
   "source": [
    "4/ Merge data"
   ]
  },
  {
   "cell_type": "markdown",
   "id": "8298d2f2-5aaa-4e3d-8463-e9749a1747d0",
   "metadata": {},
   "source": [
    "After processing the data of each file, I proceed to merge them."
   ]
  },
  {
   "cell_type": "code",
   "execution_count": 4,
   "id": "b50e590d-8889-4342-b4a0-a883ef930340",
   "metadata": {},
   "outputs": [],
   "source": [
    "#Merge data (SEQN is the common column of files)\n",
    "df = pd.merge(demo, diabetes, how='inner', on=['SEQN'])\n",
    "df = pd.merge(df, bmi, how='inner', on=['SEQN'])\n",
    "df = pd.merge(df, ldlcholes, how='inner', on=['SEQN'])\n",
    "df = pd.merge(df, glu, how='inner', on=['SEQN'])\n",
    "df = pd.merge(df, act, how='inner', on=['SEQN'])\n",
    "df = pd.merge(df, dietary, how='inner', on=['SEQN'])\n",
    "df = pd.merge(df, smoke, how='inner', on=['SEQN'])"
   ]
  },
  {
   "cell_type": "markdown",
   "id": "8e1437ed-e63c-4dc8-95d5-c238562af9fa",
   "metadata": {},
   "source": [
    "III/ Analysis data"
   ]
  },
  {
   "cell_type": "markdown",
   "id": "161172e4-6433-4780-b7bf-cdf4bbc8af9a",
   "metadata": {},
   "source": [
    "1/ Obesity of each age group and race"
   ]
  },
  {
   "cell_type": "markdown",
   "id": "0d01e414-2a75-403d-b816-bbc936b5f503",
   "metadata": {},
   "source": [
    "First, I will examine obesity across age groups. To minimise the impact of outliers, I will identify and delete them. "
   ]
  },
  {
   "cell_type": "code",
   "execution_count": 5,
   "id": "ba83fb81-1482-43d4-9993-db35d46e6a49",
   "metadata": {},
   "outputs": [
    {
     "data": {
      "application/vnd.jupyter.widget-view+json": {
       "model_id": "d44692709da54de49070b6f79fa97645",
       "version_major": 2,
       "version_minor": 0
      },
      "text/plain": [
       "interactive(children=(Dropdown(description='Race:', index=4, options=('Non-Hispanic Black', 'Non-Hispanic Whit…"
      ]
     },
     "metadata": {},
     "output_type": "display_data"
    },
    {
     "data": {
      "text/plain": [
       "<function __main__.update_stacked_plot(selected_race)>"
      ]
     },
     "execution_count": 5,
     "metadata": {},
     "output_type": "execute_result"
    }
   ],
   "source": [
    "def create_stacked_figure(selected_race):\n",
    "    filtered_data = df[df['Race'] == selected_race]\n",
    "    \n",
    "    pivot_df = pd.pivot_table(filtered_data, values='Race', index='age_group', columns='Obesity', aggfunc=len, fill_value=0)\n",
    "    \n",
    "    source = ColumnDataSource(pivot_df)\n",
    "    \n",
    "    obesity_statuses = ['underweight', 'normal weight', 'overweight', 'obesity']\n",
    "    \n",
    "    p = figure(x_range=pivot_df.index.tolist(), height=300, title=f\"Obesity Status by Age Group for {selected_race}\",\n",
    "               toolbar_location=None, tools=\"pan,wheel_zoom,box_zoom,reset\", tooltips=[(\"Status\", \"@Obesity\"), (\"Count\", \"@value\")])\n",
    "    \n",
    "    # Draw column\n",
    "    p.vbar_stack(obesity_statuses, x='age_group', width=0.9, color=[\"#c9d9d3\", \"#718dbf\", \"#e84d60\", \"#ddb7b1\"], source=source,\n",
    "                 legend_label=obesity_statuses)\n",
    "    \n",
    "    \n",
    "    p.y_range.start = 0\n",
    "    p.x_range.range_padding = 0.1\n",
    "    p.xgrid.grid_line_color = None\n",
    "    p.axis.minor_tick_line_color = None\n",
    "    p.outline_line_color = None\n",
    "    p.legend.location = \"top_left\"\n",
    "    p.legend.orientation = \"horizontal\"\n",
    "    \n",
    "    return p\n",
    "\n",
    "def update_stacked_plot(selected_race):\n",
    "    p = create_stacked_figure(selected_race)\n",
    "    show(p, notebook_handle=True)\n",
    "\n",
    "# Create drop down to choose race\n",
    "race_dropdown = Dropdown(options=df['Race'].unique().tolist(), value='Mexican American', description='Race:')\n",
    "\n",
    "# Use interact to create widget and update after selecting option\n",
    "interact(update_stacked_plot, selected_race=race_dropdown)"
   ]
  },
  {
   "cell_type": "markdown",
   "id": "ea89091d-a6d7-4864-a2f1-20f233c8e606",
   "metadata": {},
   "source": [
    "Based on the chart, all races tend to be overweight in the majority, followed by obesity and finally normal. The 41-60 age group is most likely to be overweight, while the 61-80 age group is most likely to be obese."
   ]
  },
  {
   "cell_type": "markdown",
   "id": "2a6f8e1c-98ac-40f1-8adc-8f42b9031a40",
   "metadata": {},
   "source": [
    "2/ The Relationship between BMI and LDL cholesteron "
   ]
  },
  {
   "cell_type": "markdown",
   "id": "a757e658-c0f2-4e27-ac46-907bf45929a4",
   "metadata": {},
   "source": [
    "To determine whether a person has diabetes, doctors often test the amount of LDL cholesterol and glucose in the body. The higher the test result, the more likely the subject is to have diabetes. To find the relationship between obesity and the results of the two tests above, I draw a scatter plot chart to consider. Before analysing, I will filter outliers from the three columns BMXBMI, LBDLDLM, and LBXGLU. The LBDLDLM column is LDL-Cholesterol data, calculated using the Martin-Hopkins method (mg/dL). The LBXGLU column is the glucose value measured while fasting (mg/dL)."
   ]
  },
  {
   "cell_type": "code",
   "execution_count": 6,
   "id": "7d242e0a-a804-4b55-8ce8-fa99734af0e6",
   "metadata": {},
   "outputs": [
    {
     "data": {
      "application/vnd.jupyter.widget-view+json": {
       "model_id": "5cc928bc572b4097ba0cfd7897e40c96",
       "version_major": 2,
       "version_minor": 0
      },
      "text/plain": [
       "interactive(children=(Dropdown(description='Select Gender:', options=('All', 'Male', 'Female'), value='All'), …"
      ]
     },
     "metadata": {},
     "output_type": "display_data"
    },
    {
     "data": {
      "text/plain": [
       "<function __main__.filter_and_plot(gender)>"
      ]
     },
     "execution_count": 6,
     "metadata": {},
     "output_type": "execute_result"
    }
   ],
   "source": [
    "def filter_and_plot(gender):\n",
    "    if gender == 'All':\n",
    "        task2 = df.copy()\n",
    "    else:\n",
    "        task2 = df[df['Gender'].str.lower() == gender.lower()]\n",
    "    \n",
    "    # Filter BMI\n",
    "    task2 = task2[(task2['BMXBMI'] >= lower_boundbmi) & (task2['BMXBMI'] <= upper_boundbmi)]\n",
    "    \n",
    "    # Filter LDL\n",
    "    task2 = task2.loc[task2['LBDLDLM'].notna()]\n",
    "    \n",
    "    # Calculate IQR for LDL\n",
    "    Q1ldl = task2['LBDLDLM'].quantile(0.25)\n",
    "    Q3ldl = task2['LBDLDLM'].quantile(0.75)\n",
    "    IQRldl = Q3ldl - Q1ldl\n",
    "    lower_bound_ldl = Q1ldl - 1.5 * IQRldl\n",
    "    upper_bound_ldl = Q3ldl + 1.5 * IQRldl\n",
    "    task2 = task2[(task2['LBDLDLM'] >= lower_bound_ldl) & (task2['LBDLDLM'] <= upper_bound_ldl)]\n",
    "    \n",
    "    # Filter Glucose \n",
    "    task2 = task2.loc[task2['LBXGLU'].notna()]\n",
    "    Q1glu = task2['LBXGLU'].quantile(0.25)\n",
    "    Q3glu = task2['LBXGLU'].quantile(0.75)\n",
    "    IQRglu = Q3glu - Q1glu\n",
    "    lower_bound_glu = Q1glu - 1.5 * IQRglu\n",
    "    upper_bound_glu = Q3glu + 1.5 * IQRglu\n",
    "    task2 = task2[(task2['LBXGLU'] >= lower_bound_glu) & (task2['LBXGLU'] <= upper_bound_glu)]\n",
    "    \n",
    "    source = ColumnDataSource(task2)\n",
    "    \n",
    "    p = figure(title=\"The relationship of BMI with LDL cholesterol and Glucose\", \n",
    "               x_axis_label='BMI (BMXBMI)', y_axis_label='Cholesterol and Glucose', \n",
    "               tools=\"pan,wheel_zoom,box_zoom,reset\")\n",
    "    \n",
    "    p.circle('BMXBMI', 'LBDLDLM', source=source, size=10, color=Category10[3][0], alpha=0.5, \n",
    "             legend_label=\"Cholesterol (LBDLDLM)\")\n",
    "    p.circle('BMXBMI', 'LBXGLU', source=source, size=10, color=Category10[3][1], alpha=0.5, \n",
    "             legend_label=\"Glucose (LBXGLU)\")\n",
    "    \n",
    "    hover = HoverTool()\n",
    "    hover.tooltips = [(\"BMI\", \"@BMXBMI\"), (\"Cholesterol\", \"@LBDLDLM\"), (\"Glucose\", \"@LBXGLU\")]\n",
    "    p.add_tools(hover)\n",
    "    \n",
    "    p.legend.title = 'Legend'\n",
    "    p.legend.location = \"top_left\"\n",
    "    \n",
    "    show(p)\n",
    "\n",
    "# Create widget dropdown\n",
    "gender_select = Dropdown(options=['All', 'Male', 'Female'], value='All', description='Select Gender:')\n",
    "\n",
    "interact(filter_and_plot, gender=gender_select)"
   ]
  },
  {
   "cell_type": "markdown",
   "id": "58a2e449-1c49-4c83-966a-47f56babaf43",
   "metadata": {},
   "source": [
    "The chart above does not clearly show a positive relationship between BMI and glucose and LDL cholesterol, although the data points tend to go up from left to right. It shows that obesity also has some effect on the amount of LDL cholesterol, and glucose in the blood."
   ]
  },
  {
   "cell_type": "markdown",
   "id": "20c02551-40a3-423a-8a64-5245577af78a",
   "metadata": {},
   "source": [
    "3/ Create a Density plot for glucose and diabetes_status"
   ]
  },
  {
   "cell_type": "markdown",
   "id": "7c4edf95-e5c2-4d26-9800-203e75cec833",
   "metadata": {},
   "source": [
    "The graph in task 2 shows that the relationship of glucose with obesity is in the same direction but not strong. That shows that obese people are also at risk of diabetes. To confirm this point, I will plot a density to see the glucose values for each diabetic status."
   ]
  },
  {
   "cell_type": "code",
   "execution_count": 7,
   "id": "50be7b86-da34-41d8-a0c9-a908c9bdcef9",
   "metadata": {},
   "outputs": [
    {
     "data": {
      "text/html": [
       "\n",
       "  <div id=\"bad48c26-1680-4a6f-bdc4-e23ad04ad395\" data-root-id=\"p1488\" style=\"display: contents;\"></div>\n"
      ]
     },
     "metadata": {},
     "output_type": "display_data"
    },
    {
     "data": {
      "application/javascript": [
       "(function(root) {\n",
       "  function embed_document(root) {\n",
       "  const docs_json = {\"b5fa481e-eee5-4b88-bf02-cba361a9a611\":{\"version\":\"3.3.0\",\"title\":\"Bokeh Application\",\"roots\":[{\"type\":\"object\",\"name\":\"Column\",\"id\":\"p1488\",\"attributes\":{\"children\":[{\"type\":\"object\",\"name\":\"CheckboxGroup\",\"id\":\"p1486\",\"attributes\":{\"js_property_callbacks\":{\"type\":\"map\",\"entries\":[[\"change:active\",[{\"type\":\"object\",\"name\":\"CustomJS\",\"id\":\"p1487\",\"attributes\":{\"args\":{\"type\":\"map\",\"entries\":[[\"renderers\",[{\"type\":\"object\",\"name\":\"GlyphRenderer\",\"id\":\"p1461\",\"attributes\":{\"data_source\":{\"type\":\"object\",\"name\":\"ColumnDataSource\",\"id\":\"p1455\",\"attributes\":{\"selected\":{\"type\":\"object\",\"name\":\"Selection\",\"id\":\"p1456\",\"attributes\":{\"indices\":[],\"line_indices\":[]}},\"selection_policy\":{\"type\":\"object\",\"name\":\"UnionRenderers\",\"id\":\"p1457\"},\"data\":{\"type\":\"map\",\"entries\":[[\"x\",{\"type\":\"ndarray\",\"array\":{\"type\":\"bytes\",\"data\":\"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\"},\"shape\":[200],\"dtype\":\"float64\",\"order\":\"little\"}],[\"y2\",{\"type\":\"ndarray\",\"array\":{\"type\":\"bytes\",\"data\":\"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\"},\"shape\":[200],\"dtype\":\"float64\",\"order\":\"little\"}]]}}},\"view\":{\"type\":\"object\",\"name\":\"CDSView\",\"id\":\"p1462\",\"attributes\":{\"filter\":{\"type\":\"object\",\"name\":\"AllIndices\",\"id\":\"p1463\"}}},\"glyph\":{\"type\":\"object\",\"name\":\"VArea\",\"id\":\"p1458\",\"attributes\":{\"x\":{\"type\":\"field\",\"field\":\"x\"},\"y1\":{\"type\":\"value\",\"value\":0},\"y2\":{\"type\":\"field\",\"field\":\"y2\"},\"fill_color\":\"#1f77b4\",\"fill_alpha\":0.5}},\"nonselection_glyph\":{\"type\":\"object\",\"name\":\"VArea\",\"id\":\"p1459\",\"attributes\":{\"x\":{\"type\":\"field\",\"field\":\"x\"},\"y1\":{\"type\":\"value\",\"value\":0},\"y2\":{\"type\":\"field\",\"field\":\"y2\"},\"fill_color\":\"#1f77b4\",\"fill_alpha\":0.1,\"hatch_alpha\":{\"type\":\"value\",\"value\":0.1}}},\"muted_glyph\":{\"type\":\"object\",\"name\":\"VArea\",\"id\":\"p1460\",\"attributes\":{\"x\":{\"type\":\"field\",\"field\":\"x\"},\"y1\":{\"type\":\"value\",\"value\":0},\"y2\":{\"type\":\"field\",\"field\":\"y2\"},\"fill_color\":\"#1f77b4\",\"fill_alpha\":0.2,\"hatch_alpha\":{\"type\":\"value\",\"value\":0.2}}}}},{\"type\":\"object\",\"name\":\"GlyphRenderer\",\"id\":\"p1472\",\"attributes\":{\"data_source\":{\"type\":\"object\",\"name\":\"ColumnDataSource\",\"id\":\"p1466\",\"attributes\":{\"selected\":{\"type\":\"object\",\"name\":\"Selection\",\"id\":\"p1467\",\"attributes\":{\"indices\":[],\"line_indices\":[]}},\"selection_policy\":{\"type\":\"object\",\"name\":\"UnionRenderers\",\"id\":\"p1468\"},\"data\":{\"type\":\"map\",\"entries\":[[\"x\",{\"type\":\"ndarray\",\"array\":{\"type\":\"bytes\",\"data\":\"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\"},\"shape\":[200],\"dtype\":\"float64\",\"order\":\"little\"}],[\"y2\",{\"type\":\"ndarray\",\"array\":{\"type\":\"bytes\",\"data\":\"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\"},\"shape\":[200],\"dtype\":\"float64\",\"order\":\"little\"}]]}}},\"view\":{\"type\":\"object\",\"name\":\"CDSView\",\"id\":\"p1473\",\"attributes\":{\"filter\":{\"type\":\"object\",\"name\":\"AllIndices\",\"id\":\"p1474\"}}},\"glyph\":{\"type\":\"object\",\"name\":\"VArea\",\"id\":\"p1469\",\"attributes\":{\"x\":{\"type\":\"field\",\"field\":\"x\"},\"y1\":{\"type\":\"value\",\"value\":0},\"y2\":{\"type\":\"field\",\"field\":\"y2\"},\"fill_color\":\"#ff7f0e\",\"fill_alpha\":0.5}},\"nonselection_glyph\":{\"type\":\"object\",\"name\":\"VArea\",\"id\":\"p1470\",\"attributes\":{\"x\":{\"type\":\"field\",\"field\":\"x\"},\"y1\":{\"type\":\"value\",\"value\":0},\"y2\":{\"type\":\"field\",\"field\":\"y2\"},\"fill_color\":\"#ff7f0e\",\"fill_alpha\":0.1,\"hatch_alpha\":{\"type\":\"value\",\"value\":0.1}}},\"muted_glyph\":{\"type\":\"object\",\"name\":\"VArea\",\"id\":\"p1471\",\"attributes\":{\"x\":{\"type\":\"field\",\"field\":\"x\"},\"y1\":{\"type\":\"value\",\"value\":0},\"y2\":{\"type\":\"field\",\"field\":\"y2\"},\"fill_color\":\"#ff7f0e\",\"fill_alpha\":0.2,\"hatch_alpha\":{\"type\":\"value\",\"value\":0.2}}}}},{\"type\":\"object\",\"name\":\"GlyphRenderer\",\"id\":\"p1482\",\"attributes\":{\"data_source\":{\"type\":\"object\",\"name\":\"ColumnDataSource\",\"id\":\"p1476\",\"attributes\":{\"selected\":{\"type\":\"object\",\"name\":\"Selection\",\"id\":\"p1477\",\"attributes\":{\"indices\":[],\"line_indices\":[]}},\"selection_policy\":{\"type\":\"object\",\"name\":\"UnionRenderers\",\"id\":\"p1478\"},\"data\":{\"type\":\"map\",\"entries\":[[\"x\",{\"type\":\"ndarray\",\"array\":{\"type\":\"bytes\",\"data\":\"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\"},\"shape\":[200],\"dtype\":\"float64\",\"order\":\"little\"}],[\"y2\",{\"type\":\"ndarray\",\"array\":{\"type\":\"bytes\",\"data\":\"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\"},\"shape\":[200],\"dtype\":\"float64\",\"order\":\"little\"}]]}}},\"view\":{\"type\":\"object\",\"name\":\"CDSView\",\"id\":\"p1483\",\"attributes\":{\"filter\":{\"type\":\"object\",\"name\":\"AllIndices\",\"id\":\"p1484\"}}},\"glyph\":{\"type\":\"object\",\"name\":\"VArea\",\"id\":\"p1479\",\"attributes\":{\"x\":{\"type\":\"field\",\"field\":\"x\"},\"y1\":{\"type\":\"value\",\"value\":0},\"y2\":{\"type\":\"field\",\"field\":\"y2\"},\"fill_color\":\"#2ca02c\",\"fill_alpha\":0.5}},\"nonselection_glyph\":{\"type\":\"object\",\"name\":\"VArea\",\"id\":\"p1480\",\"attributes\":{\"x\":{\"type\":\"field\",\"field\":\"x\"},\"y1\":{\"type\":\"value\",\"value\":0},\"y2\":{\"type\":\"field\",\"field\":\"y2\"},\"fill_color\":\"#2ca02c\",\"fill_alpha\":0.1,\"hatch_alpha\":{\"type\":\"value\",\"value\":0.1}}},\"muted_glyph\":{\"type\":\"object\",\"name\":\"VArea\",\"id\":\"p1481\",\"attributes\":{\"x\":{\"type\":\"field\",\"field\":\"x\"},\"y1\":{\"type\":\"value\",\"value\":0},\"y2\":{\"type\":\"field\",\"field\":\"y2\"},\"fill_color\":\"#2ca02c\",\"fill_alpha\":0.2,\"hatch_alpha\":{\"type\":\"value\",\"value\":0.2}}}}}]],[\"checkbox_group\",{\"id\":\"p1486\"}]]},\"code\":\"\\n    for (let i = 0; i < renderers.length; i++) {\\n        renderers[i].visible = checkbox_group.active.includes(i);\\n    }\\n\"}}]]]},\"labels\":[\"no\",\"yes\",\"borderline\"],\"active\":[0,1,2]}},{\"type\":\"object\",\"name\":\"Figure\",\"id\":\"p1426\",\"attributes\":{\"width\":800,\"x_range\":{\"type\":\"object\",\"name\":\"DataRange1d\",\"id\":\"p1427\"},\"y_range\":{\"type\":\"object\",\"name\":\"DataRange1d\",\"id\":\"p1428\"},\"x_scale\":{\"type\":\"object\",\"name\":\"LinearScale\",\"id\":\"p1436\"},\"y_scale\":{\"type\":\"object\",\"name\":\"LinearScale\",\"id\":\"p1437\"},\"title\":{\"type\":\"object\",\"name\":\"Title\",\"id\":\"p1429\",\"attributes\":{\"text\":\"Density Plot of Glucose Levels by Diabetes Status\"}},\"renderers\":[{\"id\":\"p1461\"},{\"id\":\"p1472\"},{\"id\":\"p1482\"}],\"toolbar\":{\"type\":\"object\",\"name\":\"Toolbar\",\"id\":\"p1435\",\"attributes\":{\"tools\":[{\"type\":\"object\",\"name\":\"PanTool\",\"id\":\"p1448\"},{\"type\":\"object\",\"name\":\"WheelZoomTool\",\"id\":\"p1449\",\"attributes\":{\"renderers\":\"auto\"}},{\"type\":\"object\",\"name\":\"BoxZoomTool\",\"id\":\"p1450\",\"attributes\":{\"overlay\":{\"type\":\"object\",\"name\":\"BoxAnnotation\",\"id\":\"p1451\",\"attributes\":{\"syncable\":false,\"level\":\"overlay\",\"visible\":false,\"left_units\":\"canvas\",\"right_units\":\"canvas\",\"top_units\":\"canvas\",\"bottom_units\":\"canvas\",\"line_color\":\"black\",\"line_alpha\":1.0,\"line_width\":2,\"line_dash\":[4,4],\"fill_color\":\"lightgrey\",\"fill_alpha\":0.5}}}},{\"type\":\"object\",\"name\":\"SaveTool\",\"id\":\"p1452\"},{\"type\":\"object\",\"name\":\"ResetTool\",\"id\":\"p1453\"},{\"type\":\"object\",\"name\":\"HelpTool\",\"id\":\"p1454\"}]}},\"left\":[{\"type\":\"object\",\"name\":\"LinearAxis\",\"id\":\"p1443\",\"attributes\":{\"ticker\":{\"type\":\"object\",\"name\":\"BasicTicker\",\"id\":\"p1444\",\"attributes\":{\"mantissas\":[1,2,5]}},\"formatter\":{\"type\":\"object\",\"name\":\"BasicTickFormatter\",\"id\":\"p1445\"},\"axis_label\":\"Density\",\"major_label_policy\":{\"type\":\"object\",\"name\":\"AllLabels\",\"id\":\"p1446\"}}}],\"below\":[{\"type\":\"object\",\"name\":\"LinearAxis\",\"id\":\"p1438\",\"attributes\":{\"ticker\":{\"type\":\"object\",\"name\":\"BasicTicker\",\"id\":\"p1439\",\"attributes\":{\"mantissas\":[1,2,5]}},\"formatter\":{\"type\":\"object\",\"name\":\"BasicTickFormatter\",\"id\":\"p1440\"},\"axis_label\":\"Glucose Level\",\"major_label_policy\":{\"type\":\"object\",\"name\":\"AllLabels\",\"id\":\"p1441\"}}}],\"center\":[{\"type\":\"object\",\"name\":\"Grid\",\"id\":\"p1442\",\"attributes\":{\"axis\":{\"id\":\"p1438\"}}},{\"type\":\"object\",\"name\":\"Grid\",\"id\":\"p1447\",\"attributes\":{\"dimension\":1,\"axis\":{\"id\":\"p1443\"}}},{\"type\":\"object\",\"name\":\"Legend\",\"id\":\"p1464\",\"attributes\":{\"items\":[{\"type\":\"object\",\"name\":\"LegendItem\",\"id\":\"p1465\",\"attributes\":{\"label\":{\"type\":\"value\",\"value\":\"no\"},\"renderers\":[{\"id\":\"p1461\"}]}},{\"type\":\"object\",\"name\":\"LegendItem\",\"id\":\"p1475\",\"attributes\":{\"label\":{\"type\":\"value\",\"value\":\"yes\"},\"renderers\":[{\"id\":\"p1472\"}]}},{\"type\":\"object\",\"name\":\"LegendItem\",\"id\":\"p1485\",\"attributes\":{\"label\":{\"type\":\"value\",\"value\":\"borderline\"},\"renderers\":[{\"id\":\"p1482\"}]}}]}}]}}]}}]}};\n",
       "  const render_items = [{\"docid\":\"b5fa481e-eee5-4b88-bf02-cba361a9a611\",\"roots\":{\"p1488\":\"bad48c26-1680-4a6f-bdc4-e23ad04ad395\"},\"root_ids\":[\"p1488\"]}];\n",
       "  root.Bokeh.embed.embed_items_notebook(docs_json, render_items);\n",
       "  }\n",
       "  if (root.Bokeh !== undefined) {\n",
       "    embed_document(root);\n",
       "  } else {\n",
       "    let attempts = 0;\n",
       "    const timer = setInterval(function(root) {\n",
       "      if (root.Bokeh !== undefined) {\n",
       "        clearInterval(timer);\n",
       "        embed_document(root);\n",
       "      } else {\n",
       "        attempts++;\n",
       "        if (attempts > 100) {\n",
       "          clearInterval(timer);\n",
       "          console.log(\"Bokeh: ERROR: Unable to run BokehJS code because BokehJS library is missing\");\n",
       "        }\n",
       "      }\n",
       "    }, 10, root)\n",
       "  }\n",
       "})(window);"
      ],
      "application/vnd.bokehjs_exec.v0+json": ""
     },
     "metadata": {
      "application/vnd.bokehjs_exec.v0+json": {
       "id": "p1488"
      }
     },
     "output_type": "display_data"
    }
   ],
   "source": [
    "# Prepare data\n",
    "diabetes_statuses = df['diabetes_status'].unique()\n",
    "colors = Category10[len(diabetes_statuses)]\n",
    "\n",
    "# Create figure\n",
    "p = figure(title=\"Density Plot of Glucose Levels by Diabetes Status\", x_axis_label=\"Glucose Level\", y_axis_label=\"Density\", width=800, height=600)\n",
    "\n",
    "renderers = []\n",
    "\n",
    "for i, status in enumerate(diabetes_statuses):\n",
    "    # Filter data by diabetes status\n",
    "    subset = df[df['diabetes_status'] == status]['LBXGLU'].dropna()\n",
    "    if len(subset) > 1:\n",
    "        kde = gaussian_kde(subset)\n",
    "        x_range = np.linspace(subset.min(), subset.max(), 200)\n",
    "        density = kde(x_range)\n",
    "        renderer = p.varea(x=x_range, y1=0, y2=density, fill_color=colors[i], fill_alpha=0.5, legend_label=status)\n",
    "        renderers.append(renderer)\n",
    "\n",
    "# CheckboxGroup \n",
    "checkbox_group = CheckboxGroup(labels=list(diabetes_statuses), active=list(range(len(diabetes_statuses))))\n",
    "\n",
    "# CustomJS callback \n",
    "callback = CustomJS(args=dict(renderers=renderers, checkbox_group=checkbox_group), code=\"\"\"\n",
    "    for (let i = 0; i < renderers.length; i++) {\n",
    "        renderers[i].visible = checkbox_group.active.includes(i);\n",
    "    }\n",
    "\"\"\")\n",
    "checkbox_group.js_on_change('active', callback)\n",
    "\n",
    "# Show chart và CheckboxGroup\n",
    "layout = column(checkbox_group, p)\n",
    "show(layout)"
   ]
  },
  {
   "cell_type": "markdown",
   "id": "3d1aaabb-82e9-4122-a151-b0e4eba48e73",
   "metadata": {},
   "source": [
    "The chart above shows that the value blood glucose value of the diabetic condition is higher than the others. It shows that people with high BMI and blood glucose levels are also at risk of diabetes."
   ]
  },
  {
   "cell_type": "markdown",
   "id": "2b364b1a-40fd-4f1a-bf04-9ccd38056441",
   "metadata": {},
   "source": [
    "4/ Diabetes status of both sexes and education"
   ]
  },
  {
   "cell_type": "markdown",
   "id": "027d6ca5-e8af-4b07-a8dd-1922625aaf8c",
   "metadata": {},
   "source": [
    "Following the above findings, I will visualize the data to see the current state of diabetes today. I suspect that with the overweight situation as analysed in task 1, there may be a large number of people with prediabetes or diabetes."
   ]
  },
  {
   "cell_type": "code",
   "execution_count": 8,
   "id": "c908ec97-76ff-4f7d-a687-68614486608d",
   "metadata": {},
   "outputs": [
    {
     "data": {
      "application/vnd.jupyter.widget-view+json": {
       "model_id": "ee32d8bf537a4d8aa572f5be61436a3f",
       "version_major": 2,
       "version_minor": 0
      },
      "text/plain": [
       "interactive(children=(Dropdown(description='Education:', options=('Less than 9th grade', '9-11th grade (Includ…"
      ]
     },
     "metadata": {},
     "output_type": "display_data"
    },
    {
     "data": {
      "text/plain": [
       "<function __main__.update_plot(Education)>"
      ]
     },
     "execution_count": 8,
     "metadata": {},
     "output_type": "execute_result"
    }
   ],
   "source": [
    "# Function to create and update the plot\n",
    "def update_plot(Education):\n",
    "    # Filter dataframe based on selected Education level\n",
    "    df_filtered = df[df['Education'] == Education]\n",
    "    \n",
    "    # Count diabetes status grouped by Gender and diabetes_status within the filtered data\n",
    "    df_count = df_filtered.groupby(['Gender', 'diabetes_status']).size().reset_index(name='Count')\n",
    "    df_count['Gender_Status'] = df_count[['Gender', 'diabetes_status']].apply(tuple, axis=1)\n",
    "\n",
    "    source = ColumnDataSource(df_count)\n",
    "    x_range = FactorRange(*df_count['Gender_Status'].unique())\n",
    "\n",
    "    p = figure(x_range=x_range, height=600, title=f\"Diabetes Status by Gender for {Education}\", toolbar_location='right')\n",
    "    p.vbar(x='Gender_Status', top='Count', width=0.9, source=source, line_color='white',\n",
    "           fill_color=factor_cmap('Gender_Status', palette=['blue', 'orange', 'green', 'red'], factors=df_count['diabetes_status'].unique(), start=1, end=2))\n",
    "\n",
    "    p.y_range.start = 0\n",
    "    p.xgrid.grid_line_color = None\n",
    "    p.xaxis.major_label_orientation = 1\n",
    "    p.outline_line_color = None\n",
    "\n",
    "    hover = HoverTool()\n",
    "    hover.tooltips = [(\"Diabetes Status\", \"@diabetes_status\"), (\"Gender\", \"@Gender\")]\n",
    "    p.add_tools(hover)\n",
    "    \n",
    "    show(p, notebook_handle=True)\n",
    "    push_notebook()\n",
    "\n",
    "# Dropdown for Education selection\n",
    "education_levels = ['Less than 9th grade', '9-11th grade (Includes 12th grade with no diploma)', 'High school graduate/GED or equivalent', 'Some college or AA degree', 'College graduate or above', 'Refused', 'Dont Know']\n",
    "dropdown = Dropdown(options=education_levels, value=education_levels[0], description='Education:')\n",
    "\n",
    "# Display dropdown and update the plot based on selection\n",
    "interact(update_plot, Education=dropdown)"
   ]
  },
  {
   "cell_type": "markdown",
   "id": "6a12c093-4b46-4fb5-9e99-dba91967d01f",
   "metadata": {},
   "source": [
    "Contrary to my assumption, the number of people without diabetes is quite high, and the number of people with diabetes and prediabetes is quite low in both sexes. According to the chart, men have a higher number of non-diabetics, pre-diabetics, and diabetics than women. It may be due to the large number of overweight people interviewed whose blood glucose and LDL cholesterol levels were still within safe ranges. There were no significant changes in diabetes status across all educational levels."
   ]
  },
  {
   "cell_type": "markdown",
   "id": "28a96f2a-8f7c-4fc6-81e0-df564503c275",
   "metadata": {},
   "source": [
    "5/ Number of days walking and cycling with diabetes"
   ]
  },
  {
   "cell_type": "markdown",
   "id": "fb3f9eb5-3b3f-4a08-9875-d98387d7aed2",
   "metadata": {},
   "source": [
    "It believes that cycling or walking can reduce the risk of diabetes. To confirm that idea, I analysed the number of people with diabetes and the number of days they walked or cycled."
   ]
  },
  {
   "cell_type": "code",
   "execution_count": 9,
   "id": "5ce2919c-ab1f-4058-b051-e846d7e5611a",
   "metadata": {},
   "outputs": [
    {
     "data": {
      "text/html": [
       "\n",
       "  <div id=\"fa7a5974-808b-41d1-a8bf-c36e5c8d790f\" data-root-id=\"p1545\" style=\"display: contents;\"></div>\n"
      ]
     },
     "metadata": {},
     "output_type": "display_data"
    },
    {
     "data": {
      "application/javascript": [
       "(function(root) {\n",
       "  function embed_document(root) {\n",
       "  const docs_json = {\"4017df28-d6b4-4e36-a87c-b69bc9e37d16\":{\"version\":\"3.3.0\",\"title\":\"Bokeh Application\",\"roots\":[{\"type\":\"object\",\"name\":\"Figure\",\"id\":\"p1545\",\"attributes\":{\"width\":800,\"x_range\":{\"type\":\"object\",\"name\":\"DataRange1d\",\"id\":\"p1546\"},\"y_range\":{\"type\":\"object\",\"name\":\"DataRange1d\",\"id\":\"p1547\"},\"x_scale\":{\"type\":\"object\",\"name\":\"LinearScale\",\"id\":\"p1555\"},\"y_scale\":{\"type\":\"object\",\"name\":\"LinearScale\",\"id\":\"p1556\"},\"title\":{\"type\":\"object\",\"name\":\"Title\",\"id\":\"p1548\",\"attributes\":{\"text\":\"Diabetes Status by Days Walked or Cycled per Week\"}},\"renderers\":[{\"type\":\"object\",\"name\":\"GlyphRenderer\",\"id\":\"p1590\",\"attributes\":{\"name\":\"yes\",\"data_source\":{\"type\":\"object\",\"name\":\"ColumnDataSource\",\"id\":\"p1542\",\"attributes\":{\"selected\":{\"type\":\"object\",\"name\":\"Selection\",\"id\":\"p1543\",\"attributes\":{\"indices\":[],\"line_indices\":[]}},\"selection_policy\":{\"type\":\"object\",\"name\":\"UnionRenderers\",\"id\":\"p1544\"},\"data\":{\"type\":\"map\",\"entries\":[[\"index\",{\"type\":\"ndarray\",\"array\":{\"type\":\"bytes\",\"data\":\"AAAAAAEAAAACAAAAAwAAAAQAAAAFAAAABgAAAA==\"},\"shape\":[7],\"dtype\":\"int32\",\"order\":\"little\"}],[\"PAQ640\",{\"type\":\"ndarray\",\"array\":{\"type\":\"bytes\",\"data\":\"AAAAAAAA8D8AAAAAAAAAQAAAAAAAAAhAAAAAAAAAEEAAAAAAAAAUQAAAAAAAABhAAAAAAAAAHEA=\"},\"shape\":[7],\"dtype\":\"float64\",\"order\":\"little\"}],[\"yes\",{\"type\":\"ndarray\",\"array\":{\"type\":\"bytes\",\"data\":\"AAAAAAAAAEAAAAAAAAAqQAAAAAAAAC5AAAAAAAAAHEAAAAAAAAAqQAAAAAAAAPA/AAAAAAAAKkA=\"},\"shape\":[7],\"dtype\":\"float64\",\"order\":\"little\"}],[\"no\",{\"type\":\"ndarray\",\"array\":{\"type\":\"bytes\",\"data\":\"AAAAAAAANUAAAAAAAABBQAAAAAAAAExAAAAAAAAAPkAAAAAAAABRQAAAAAAAADRAAAAAAADAWkA=\"},\"shape\":[7],\"dtype\":\"float64\",\"order\":\"little\"}],[\"borderline\",{\"type\":\"ndarray\",\"array\":{\"type\":\"bytes\",\"data\":\"AAAAAAAAAEAAAAAAAAAAQAAAAAAAAPA/AAAAAAAA8D8AAAAAAAAIQAAAAAAAAAAAAAAAAAAACEA=\"},\"shape\":[7],\"dtype\":\"float64\",\"order\":\"little\"}],[\"refused\",{\"type\":\"ndarray\",\"array\":{\"type\":\"bytes\",\"data\":\"AAAAAAAAAAAAAAAAAAAAAAAAAAAAAAAAAAAAAA==\"},\"shape\":[7],\"dtype\":\"int32\",\"order\":\"little\"}],[\"don't know\",{\"type\":\"ndarray\",\"array\":{\"type\":\"bytes\",\"data\":\"AAAAAAAAAAAAAAAAAAAAAAAAAAAAAAAAAAAAAA==\"},\"shape\":[7],\"dtype\":\"int32\",\"order\":\"little\"}]]}}},\"view\":{\"type\":\"object\",\"name\":\"CDSView\",\"id\":\"p1591\",\"attributes\":{\"filter\":{\"type\":\"object\",\"name\":\"AllIndices\",\"id\":\"p1592\"}}},\"glyph\":{\"type\":\"object\",\"name\":\"VArea\",\"id\":\"p1587\",\"attributes\":{\"x\":{\"type\":\"field\",\"field\":\"PAQ640\"},\"y1\":{\"type\":\"expr\",\"expr\":{\"type\":\"object\",\"name\":\"Stack\",\"id\":\"p1574\",\"attributes\":{\"fields\":[]}}},\"y2\":{\"type\":\"expr\",\"expr\":{\"type\":\"object\",\"name\":\"Stack\",\"id\":\"p1575\",\"attributes\":{\"fields\":[\"yes\"]}}},\"fill_color\":\"#1f77b4\",\"hatch_color\":{\"type\":\"value\",\"value\":\"#1f77b4\"}}},\"nonselection_glyph\":{\"type\":\"object\",\"name\":\"VArea\",\"id\":\"p1588\",\"attributes\":{\"x\":{\"type\":\"field\",\"field\":\"PAQ640\"},\"y1\":{\"type\":\"expr\",\"expr\":{\"id\":\"p1574\"}},\"y2\":{\"type\":\"expr\",\"expr\":{\"id\":\"p1575\"}},\"fill_color\":\"#1f77b4\",\"fill_alpha\":0.1,\"hatch_color\":{\"type\":\"value\",\"value\":\"#1f77b4\"},\"hatch_alpha\":{\"type\":\"value\",\"value\":0.1}}},\"muted_glyph\":{\"type\":\"object\",\"name\":\"VArea\",\"id\":\"p1589\",\"attributes\":{\"x\":{\"type\":\"field\",\"field\":\"PAQ640\"},\"y1\":{\"type\":\"expr\",\"expr\":{\"id\":\"p1574\"}},\"y2\":{\"type\":\"expr\",\"expr\":{\"id\":\"p1575\"}},\"fill_color\":\"#1f77b4\",\"fill_alpha\":0.2,\"hatch_color\":{\"type\":\"value\",\"value\":\"#1f77b4\"},\"hatch_alpha\":{\"type\":\"value\",\"value\":0.2}}}}},{\"type\":\"object\",\"name\":\"GlyphRenderer\",\"id\":\"p1601\",\"attributes\":{\"name\":\"no\",\"data_source\":{\"id\":\"p1542\"},\"view\":{\"type\":\"object\",\"name\":\"CDSView\",\"id\":\"p1602\",\"attributes\":{\"filter\":{\"type\":\"object\",\"name\":\"AllIndices\",\"id\":\"p1603\"}}},\"glyph\":{\"type\":\"object\",\"name\":\"VArea\",\"id\":\"p1598\",\"attributes\":{\"x\":{\"type\":\"field\",\"field\":\"PAQ640\"},\"y1\":{\"type\":\"expr\",\"expr\":{\"type\":\"object\",\"name\":\"Stack\",\"id\":\"p1576\",\"attributes\":{\"fields\":[\"yes\"]}}},\"y2\":{\"type\":\"expr\",\"expr\":{\"type\":\"object\",\"name\":\"Stack\",\"id\":\"p1577\",\"attributes\":{\"fields\":[\"yes\",\"no\"]}}},\"fill_color\":\"#aec7e8\",\"hatch_color\":{\"type\":\"value\",\"value\":\"#aec7e8\"}}},\"nonselection_glyph\":{\"type\":\"object\",\"name\":\"VArea\",\"id\":\"p1599\",\"attributes\":{\"x\":{\"type\":\"field\",\"field\":\"PAQ640\"},\"y1\":{\"type\":\"expr\",\"expr\":{\"id\":\"p1576\"}},\"y2\":{\"type\":\"expr\",\"expr\":{\"id\":\"p1577\"}},\"fill_color\":\"#aec7e8\",\"fill_alpha\":0.1,\"hatch_color\":{\"type\":\"value\",\"value\":\"#aec7e8\"},\"hatch_alpha\":{\"type\":\"value\",\"value\":0.1}}},\"muted_glyph\":{\"type\":\"object\",\"name\":\"VArea\",\"id\":\"p1600\",\"attributes\":{\"x\":{\"type\":\"field\",\"field\":\"PAQ640\"},\"y1\":{\"type\":\"expr\",\"expr\":{\"id\":\"p1576\"}},\"y2\":{\"type\":\"expr\",\"expr\":{\"id\":\"p1577\"}},\"fill_color\":\"#aec7e8\",\"fill_alpha\":0.2,\"hatch_color\":{\"type\":\"value\",\"value\":\"#aec7e8\"},\"hatch_alpha\":{\"type\":\"value\",\"value\":0.2}}}}},{\"type\":\"object\",\"name\":\"GlyphRenderer\",\"id\":\"p1611\",\"attributes\":{\"name\":\"borderline\",\"data_source\":{\"id\":\"p1542\"},\"view\":{\"type\":\"object\",\"name\":\"CDSView\",\"id\":\"p1612\",\"attributes\":{\"filter\":{\"type\":\"object\",\"name\":\"AllIndices\",\"id\":\"p1613\"}}},\"glyph\":{\"type\":\"object\",\"name\":\"VArea\",\"id\":\"p1608\",\"attributes\":{\"x\":{\"type\":\"field\",\"field\":\"PAQ640\"},\"y1\":{\"type\":\"expr\",\"expr\":{\"type\":\"object\",\"name\":\"Stack\",\"id\":\"p1578\",\"attributes\":{\"fields\":[\"yes\",\"no\"]}}},\"y2\":{\"type\":\"expr\",\"expr\":{\"type\":\"object\",\"name\":\"Stack\",\"id\":\"p1579\",\"attributes\":{\"fields\":[\"yes\",\"no\",\"borderline\"]}}},\"fill_color\":\"#ff7f0e\",\"hatch_color\":{\"type\":\"value\",\"value\":\"#ff7f0e\"}}},\"nonselection_glyph\":{\"type\":\"object\",\"name\":\"VArea\",\"id\":\"p1609\",\"attributes\":{\"x\":{\"type\":\"field\",\"field\":\"PAQ640\"},\"y1\":{\"type\":\"expr\",\"expr\":{\"id\":\"p1578\"}},\"y2\":{\"type\":\"expr\",\"expr\":{\"id\":\"p1579\"}},\"fill_color\":\"#ff7f0e\",\"fill_alpha\":0.1,\"hatch_color\":{\"type\":\"value\",\"value\":\"#ff7f0e\"},\"hatch_alpha\":{\"type\":\"value\",\"value\":0.1}}},\"muted_glyph\":{\"type\":\"object\",\"name\":\"VArea\",\"id\":\"p1610\",\"attributes\":{\"x\":{\"type\":\"field\",\"field\":\"PAQ640\"},\"y1\":{\"type\":\"expr\",\"expr\":{\"id\":\"p1578\"}},\"y2\":{\"type\":\"expr\",\"expr\":{\"id\":\"p1579\"}},\"fill_color\":\"#ff7f0e\",\"fill_alpha\":0.2,\"hatch_color\":{\"type\":\"value\",\"value\":\"#ff7f0e\"},\"hatch_alpha\":{\"type\":\"value\",\"value\":0.2}}}}},{\"type\":\"object\",\"name\":\"GlyphRenderer\",\"id\":\"p1621\",\"attributes\":{\"name\":\"refused\",\"data_source\":{\"id\":\"p1542\"},\"view\":{\"type\":\"object\",\"name\":\"CDSView\",\"id\":\"p1622\",\"attributes\":{\"filter\":{\"type\":\"object\",\"name\":\"AllIndices\",\"id\":\"p1623\"}}},\"glyph\":{\"type\":\"object\",\"name\":\"VArea\",\"id\":\"p1618\",\"attributes\":{\"x\":{\"type\":\"field\",\"field\":\"PAQ640\"},\"y1\":{\"type\":\"expr\",\"expr\":{\"type\":\"object\",\"name\":\"Stack\",\"id\":\"p1580\",\"attributes\":{\"fields\":[\"yes\",\"no\",\"borderline\"]}}},\"y2\":{\"type\":\"expr\",\"expr\":{\"type\":\"object\",\"name\":\"Stack\",\"id\":\"p1581\",\"attributes\":{\"fields\":[\"yes\",\"no\",\"borderline\",\"refused\"]}}},\"fill_color\":\"#ffbb78\",\"hatch_color\":{\"type\":\"value\",\"value\":\"#ffbb78\"}}},\"nonselection_glyph\":{\"type\":\"object\",\"name\":\"VArea\",\"id\":\"p1619\",\"attributes\":{\"x\":{\"type\":\"field\",\"field\":\"PAQ640\"},\"y1\":{\"type\":\"expr\",\"expr\":{\"id\":\"p1580\"}},\"y2\":{\"type\":\"expr\",\"expr\":{\"id\":\"p1581\"}},\"fill_color\":\"#ffbb78\",\"fill_alpha\":0.1,\"hatch_color\":{\"type\":\"value\",\"value\":\"#ffbb78\"},\"hatch_alpha\":{\"type\":\"value\",\"value\":0.1}}},\"muted_glyph\":{\"type\":\"object\",\"name\":\"VArea\",\"id\":\"p1620\",\"attributes\":{\"x\":{\"type\":\"field\",\"field\":\"PAQ640\"},\"y1\":{\"type\":\"expr\",\"expr\":{\"id\":\"p1580\"}},\"y2\":{\"type\":\"expr\",\"expr\":{\"id\":\"p1581\"}},\"fill_color\":\"#ffbb78\",\"fill_alpha\":0.2,\"hatch_color\":{\"type\":\"value\",\"value\":\"#ffbb78\"},\"hatch_alpha\":{\"type\":\"value\",\"value\":0.2}}}}},{\"type\":\"object\",\"name\":\"GlyphRenderer\",\"id\":\"p1631\",\"attributes\":{\"name\":\"don't know\",\"data_source\":{\"id\":\"p1542\"},\"view\":{\"type\":\"object\",\"name\":\"CDSView\",\"id\":\"p1632\",\"attributes\":{\"filter\":{\"type\":\"object\",\"name\":\"AllIndices\",\"id\":\"p1633\"}}},\"glyph\":{\"type\":\"object\",\"name\":\"VArea\",\"id\":\"p1628\",\"attributes\":{\"x\":{\"type\":\"field\",\"field\":\"PAQ640\"},\"y1\":{\"type\":\"expr\",\"expr\":{\"type\":\"object\",\"name\":\"Stack\",\"id\":\"p1582\",\"attributes\":{\"fields\":[\"yes\",\"no\",\"borderline\",\"refused\"]}}},\"y2\":{\"type\":\"expr\",\"expr\":{\"type\":\"object\",\"name\":\"Stack\",\"id\":\"p1583\",\"attributes\":{\"fields\":[\"yes\",\"no\",\"borderline\",\"refused\",\"don't know\"]}}},\"fill_color\":\"#2ca02c\",\"hatch_color\":{\"type\":\"value\",\"value\":\"#2ca02c\"}}},\"nonselection_glyph\":{\"type\":\"object\",\"name\":\"VArea\",\"id\":\"p1629\",\"attributes\":{\"x\":{\"type\":\"field\",\"field\":\"PAQ640\"},\"y1\":{\"type\":\"expr\",\"expr\":{\"id\":\"p1582\"}},\"y2\":{\"type\":\"expr\",\"expr\":{\"id\":\"p1583\"}},\"fill_color\":\"#2ca02c\",\"fill_alpha\":0.1,\"hatch_color\":{\"type\":\"value\",\"value\":\"#2ca02c\"},\"hatch_alpha\":{\"type\":\"value\",\"value\":0.1}}},\"muted_glyph\":{\"type\":\"object\",\"name\":\"VArea\",\"id\":\"p1630\",\"attributes\":{\"x\":{\"type\":\"field\",\"field\":\"PAQ640\"},\"y1\":{\"type\":\"expr\",\"expr\":{\"id\":\"p1582\"}},\"y2\":{\"type\":\"expr\",\"expr\":{\"id\":\"p1583\"}},\"fill_color\":\"#2ca02c\",\"fill_alpha\":0.2,\"hatch_color\":{\"type\":\"value\",\"value\":\"#2ca02c\"},\"hatch_alpha\":{\"type\":\"value\",\"value\":0.2}}}}}],\"toolbar\":{\"type\":\"object\",\"name\":\"Toolbar\",\"id\":\"p1554\",\"attributes\":{\"tools\":[{\"type\":\"object\",\"name\":\"PanTool\",\"id\":\"p1567\"},{\"type\":\"object\",\"name\":\"WheelZoomTool\",\"id\":\"p1568\",\"attributes\":{\"renderers\":\"auto\"}},{\"type\":\"object\",\"name\":\"BoxZoomTool\",\"id\":\"p1569\",\"attributes\":{\"overlay\":{\"type\":\"object\",\"name\":\"BoxAnnotation\",\"id\":\"p1570\",\"attributes\":{\"syncable\":false,\"level\":\"overlay\",\"visible\":false,\"left_units\":\"canvas\",\"right_units\":\"canvas\",\"top_units\":\"canvas\",\"bottom_units\":\"canvas\",\"line_color\":\"black\",\"line_alpha\":1.0,\"line_width\":2,\"line_dash\":[4,4],\"fill_color\":\"lightgrey\",\"fill_alpha\":0.5}}}},{\"type\":\"object\",\"name\":\"SaveTool\",\"id\":\"p1571\"},{\"type\":\"object\",\"name\":\"ResetTool\",\"id\":\"p1572\"},{\"type\":\"object\",\"name\":\"HelpTool\",\"id\":\"p1573\"},{\"type\":\"object\",\"name\":\"HoverTool\",\"id\":\"p1635\",\"attributes\":{\"renderers\":\"auto\",\"tooltips\":[[\"Day\",\"@PAQ640\"],[\"Count\",\"@$name\"]]}}]}},\"left\":[{\"type\":\"object\",\"name\":\"LinearAxis\",\"id\":\"p1562\",\"attributes\":{\"ticker\":{\"type\":\"object\",\"name\":\"BasicTicker\",\"id\":\"p1563\",\"attributes\":{\"mantissas\":[1,2,5]}},\"formatter\":{\"type\":\"object\",\"name\":\"BasicTickFormatter\",\"id\":\"p1564\"},\"axis_label\":\"Number of Individuals\",\"major_label_policy\":{\"type\":\"object\",\"name\":\"AllLabels\",\"id\":\"p1565\"}}}],\"below\":[{\"type\":\"object\",\"name\":\"LinearAxis\",\"id\":\"p1557\",\"attributes\":{\"ticker\":{\"type\":\"object\",\"name\":\"BasicTicker\",\"id\":\"p1558\",\"attributes\":{\"mantissas\":[1,2,5]}},\"formatter\":{\"type\":\"object\",\"name\":\"BasicTickFormatter\",\"id\":\"p1559\"},\"axis_label\":\"Days Walked per Week\",\"major_label_orientation\":1,\"major_label_policy\":{\"type\":\"object\",\"name\":\"AllLabels\",\"id\":\"p1560\"}}}],\"center\":[{\"type\":\"object\",\"name\":\"Grid\",\"id\":\"p1561\",\"attributes\":{\"axis\":{\"id\":\"p1557\"}}},{\"type\":\"object\",\"name\":\"Grid\",\"id\":\"p1566\",\"attributes\":{\"dimension\":1,\"axis\":{\"id\":\"p1562\"}}},{\"type\":\"object\",\"name\":\"Legend\",\"id\":\"p1593\",\"attributes\":{\"location\":\"top_left\",\"orientation\":\"horizontal\",\"items\":[{\"type\":\"object\",\"name\":\"LegendItem\",\"id\":\"p1594\",\"attributes\":{\"label\":{\"type\":\"value\",\"value\":\"yes\"},\"renderers\":[{\"id\":\"p1590\"}]}},{\"type\":\"object\",\"name\":\"LegendItem\",\"id\":\"p1604\",\"attributes\":{\"label\":{\"type\":\"value\",\"value\":\"no\"},\"renderers\":[{\"id\":\"p1601\"}]}},{\"type\":\"object\",\"name\":\"LegendItem\",\"id\":\"p1614\",\"attributes\":{\"label\":{\"type\":\"value\",\"value\":\"borderline\"},\"renderers\":[{\"id\":\"p1611\"}]}},{\"type\":\"object\",\"name\":\"LegendItem\",\"id\":\"p1624\",\"attributes\":{\"label\":{\"type\":\"value\",\"value\":\"refused\"},\"renderers\":[{\"id\":\"p1621\"}]}},{\"type\":\"object\",\"name\":\"LegendItem\",\"id\":\"p1634\",\"attributes\":{\"label\":{\"type\":\"value\",\"value\":\"don't know\"},\"renderers\":[{\"id\":\"p1631\"}]}}]}}]}}]}};\n",
       "  const render_items = [{\"docid\":\"4017df28-d6b4-4e36-a87c-b69bc9e37d16\",\"roots\":{\"p1545\":\"fa7a5974-808b-41d1-a8bf-c36e5c8d790f\"},\"root_ids\":[\"p1545\"]}];\n",
       "  root.Bokeh.embed.embed_items_notebook(docs_json, render_items);\n",
       "  }\n",
       "  if (root.Bokeh !== undefined) {\n",
       "    embed_document(root);\n",
       "  } else {\n",
       "    let attempts = 0;\n",
       "    const timer = setInterval(function(root) {\n",
       "      if (root.Bokeh !== undefined) {\n",
       "        clearInterval(timer);\n",
       "        embed_document(root);\n",
       "      } else {\n",
       "        attempts++;\n",
       "        if (attempts > 100) {\n",
       "          clearInterval(timer);\n",
       "          console.log(\"Bokeh: ERROR: Unable to run BokehJS code because BokehJS library is missing\");\n",
       "        }\n",
       "      }\n",
       "    }, 10, root)\n",
       "  }\n",
       "})(window);"
      ],
      "application/vnd.bokehjs_exec.v0+json": ""
     },
     "metadata": {
      "application/vnd.bokehjs_exec.v0+json": {
       "id": "p1545"
      }
     },
     "output_type": "display_data"
    }
   ],
   "source": [
    "# Group by 'PAQ640' and 'diabetes_status' \n",
    "grouped = df.groupby(['PAQ640', 'diabetes_status']).size().reset_index(name='count')\n",
    "\n",
    "# Pivot the grouped data\n",
    "pivoted = grouped.pivot(index='PAQ640', columns='diabetes_status', values='count').fillna(0)\n",
    "\n",
    "# Specify the desired order and categories, including those that might be missing\n",
    "status_order = ['yes', 'no', 'borderline', 'refused', \"don't know\"]\n",
    "\n",
    "# Reindex the DataFrame to ensure all statuses are present\n",
    "pivoted = pivoted.reindex(columns=status_order, fill_value=0)\n",
    "\n",
    "# Reset the index to turn 'PAQ640' back into a column\n",
    "pivoted.reset_index(inplace=True)\n",
    "\n",
    "# Define a color palette with as many colors as there are statuses\n",
    "if len(status_order) <= 20:\n",
    "    palette = d3['Category20'][len(status_order)]\n",
    "else:\n",
    "    raise ValueError(\"Number of statuses exceeds the number of available colors.\")\n",
    "\n",
    "# Create a ColumnDataSource from the pivoted data\n",
    "source = ColumnDataSource(pivoted)\n",
    "\n",
    "# Create the figure for the stacked area chart\n",
    "p = figure(width=800, height=600, title=\"Diabetes Status by Days Walked or Cycled per Week\", x_axis_label=\"Days Walked per Week\", y_axis_label=\"Number of Individuals\")\n",
    "\n",
    "# Stack the areas\n",
    "p.varea_stack(stackers=status_order, x='PAQ640', color=palette, legend_label=status_order, source=source)\n",
    "\n",
    "# Rotate the x-axis labels for better readability\n",
    "p.xaxis.major_label_orientation = 1\n",
    "\n",
    "# Add the legend outside the plot area\n",
    "p.legend.location = \"top_left\"\n",
    "p.legend.orientation = \"horizontal\"\n",
    "\n",
    "# Add tooltips for hover interactivity\n",
    "hover = HoverTool(tooltips=[(\"Day\", \"@PAQ640\"), (\"Count\", \"@$name\")])\n",
    "p.add_tools(hover)\n",
    "\n",
    "# Show plot\n",
    "show(p)"
   ]
  },
  {
   "cell_type": "markdown",
   "id": "ffcc6379-22be-404a-930f-cd7ce05410ad",
   "metadata": {},
   "source": [
    "The chart above shows that the number of people without diabetes who exercise for many days is higher than the number of people with or with prediabetes. Notably, the number of people with prediabetes is quite low, and the risk of having it is not much different because the border line does not fluctuate much."
   ]
  },
  {
   "cell_type": "markdown",
   "id": "069235c1-9365-48ed-9893-363b932b39c0",
   "metadata": {},
   "source": [
    "IV/ Conclusion"
   ]
  },
  {
   "cell_type": "markdown",
   "id": "7a5a5a22-4e59-4379-8379-81e2eb341d60",
   "metadata": {},
   "source": [
    "The report analysed the current status of obesity, the relationship between BMI and LDL cholesterol and blood glucose, and diabetes. Although all ages are overweight, the number of patients with diabetes and prediabetes is quite low. The report also suggests walking or cycling four to five days a week to reduce the risk of diabetes."
   ]
  }
 ],
 "metadata": {
  "kernelspec": {
   "display_name": "Python 3 (ipykernel)",
   "language": "python",
   "name": "python3"
  },
  "language_info": {
   "codemirror_mode": {
    "name": "ipython",
    "version": 3
   },
   "file_extension": ".py",
   "mimetype": "text/x-python",
   "name": "python",
   "nbconvert_exporter": "python",
   "pygments_lexer": "ipython3",
   "version": "3.11.5"
  }
 },
 "nbformat": 4,
 "nbformat_minor": 5
}
